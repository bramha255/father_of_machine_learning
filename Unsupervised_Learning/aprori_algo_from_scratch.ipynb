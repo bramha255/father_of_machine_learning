{
  "cells": [
    {
      "cell_type": "code",
      "execution_count": 2,
      "metadata": {
        "id": "BOoTO-EeNXuu"
      },
      "outputs": [],
      "source": [
        "from collections import Counter\n",
        "import pandas as pd"
      ]
    },
    {
      "cell_type": "code",
      "execution_count": 74,
      "metadata": {
        "colab": {
          "base_uri": "https://localhost:8080/"
        },
        "id": "fYoCuAupB9lG",
        "outputId": "001556f1-8762-4b12-af39-b6df65f309d3"
      },
      "outputs": [
        {
          "data": {
            "text/plain": [
              "[['T100', ['I1', 'I2', 'I3']],\n",
              " ['T200', ['I2', 'I3', 'I4']],\n",
              " ['T300', ['I4', 'I5']],\n",
              " ['T400', ['I1', 'I2', 'I4']],\n",
              " ['T500', ['I1', 'I2', 'I3', 'I5']],\n",
              " ['T600', ['I1', 'I2', 'I3', 'I4']]]"
            ]
          },
          "execution_count": 74,
          "metadata": {},
          "output_type": "execute_result"
        }
      ],
      "source": [
        "data = [\n",
        "        ['T100',['I1','I2','I3']],\n",
        "        ['T200',['I2','I3','I4']],\n",
        "        ['T300',['I4','I5']],\n",
        "        ['T400',['I1','I2','I4']],\n",
        "        ['T500',['I1','I2','I3','I5']],\n",
        "        ['T600',['I1','I2','I3','I4']]\n",
        "        ]\n",
        "data"
      ]
    },
    {
      "cell_type": "code",
      "execution_count": 75,
      "metadata": {
        "colab": {
          "base_uri": "https://localhost:8080/"
        },
        "id": "Zpf_KggoESuX",
        "outputId": "1ddaa44e-3801-478f-b77b-b714efe06562"
      },
      "outputs": [
        {
          "data": {
            "text/plain": [
              "['I1', 'I2', 'I3', 'I4', 'I5']"
            ]
          },
          "execution_count": 75,
          "metadata": {},
          "output_type": "execute_result"
        }
      ],
      "source": [
        "uniq_item=[]\n",
        "\n",
        "for i in data:\n",
        "  for j in i[1]:\n",
        "    if j not in uniq_item:\n",
        "      uniq_item.append(j)\n",
        "\n",
        "uniq_item = sorted(uniq_item)\n",
        "uniq_item"
      ]
    },
    {
      "cell_type": "code",
      "execution_count": 76,
      "metadata": {
        "id": "ZblOHl7wLjnQ"
      },
      "outputs": [
        {
          "data": {
            "text/plain": [
              "3.0"
            ]
          },
          "execution_count": 76,
          "metadata": {},
          "output_type": "execute_result"
        }
      ],
      "source": [
        "support = 0.5\n",
        "\n",
        "support_val = support*len(data)\n",
        "support_val"
      ]
    },
    {
      "cell_type": "code",
      "execution_count": 146,
      "metadata": {
        "colab": {
          "base_uri": "https://localhost:8080/"
        },
        "id": "RbvCAbMVLtFa",
        "outputId": "8763e779-93d3-477e-a0b3-b0228deb8ce2"
      },
      "outputs": [
        {
          "name": "stdout",
          "output_type": "stream",
          "text": [
            "Calculated: \n",
            "I1    4\n",
            "I2    5\n",
            "I3    4\n",
            "I4    4\n",
            "I5    2\n",
            "dtype: int64\n",
            "Pruned: \n",
            "I1    4\n",
            "I2    5\n",
            "I3    4\n",
            "I4    4\n",
            "dtype: int64\n"
          ]
        }
      ],
      "source": [
        "items = []\n",
        "\n",
        "for i in data:\n",
        "  for j in i[1]:\n",
        "    items.append(j)\n",
        "\n",
        "calc_it1 = pd.Series(items)\n",
        "calc_it1 = calc_it1.value_counts().sort_index()\n",
        "\n",
        "print(f'Calculated: \\n{calc_it1}')\n",
        "\n",
        "#pruning\n",
        "items = []\n",
        "count = []\n",
        "for num,i in enumerate(calc_it1 >= support_val):\n",
        "  if i:\n",
        "    items.append(calc_it1.index[num])\n",
        "    count.append(calc_it1[num])\n",
        "\n",
        "it1 = pd.Series(data=count, index=items).sort_index()\n",
        "print(f'Pruned: \\n{it1}')"
      ]
    },
    {
      "attachments": {},
      "cell_type": "markdown",
      "metadata": {},
      "source": [
        "2nd iteration: Creating pairs"
      ]
    },
    {
      "cell_type": "code",
      "execution_count": 161,
      "metadata": {
        "id": "gDioj_H5Ls_Y"
      },
      "outputs": [
        {
          "name": "stdout",
          "output_type": "stream",
          "text": [
            "Calculated: \n",
            "[I1, I2]    4\n",
            "[I1, I3]    3\n",
            "[I1, I4]    2\n",
            "[I2, I3]    4\n",
            "[I2, I4]    3\n",
            "[I3, I4]    2\n",
            "dtype: int64\n",
            "Pruned: \n",
            "      Items  Count\n",
            "0  [I1, I2]      4\n",
            "1  [I1, I3]      3\n",
            "2  [I2, I3]      4\n",
            "3  [I2, I4]      3\n"
          ]
        }
      ],
      "source": [
        "items = []\n",
        "\n",
        "for num,i in enumerate(it1.index):\n",
        "  for j in it1.index[num:]:\n",
        "    # num = 0\n",
        "    for k in range(0, len(data)):\n",
        "      if (i != j) and (j in data[k][1]) and (i in data[k][1]):\n",
        "          # num = num+1\n",
        "          # print(data[k][1], i, j, num)\n",
        "          items.append([i, j])\n",
        "    # print(i, j, num)\n",
        "\n",
        "calc_it2 = pd.Series(items)\n",
        "calc_it2 = calc_it2.value_counts().sort_index()\n",
        "\n",
        "print(f'Calculated: \\n{calc_it2}')\n",
        "#pruning\n",
        "items = []\n",
        "count = []\n",
        "for num, i in enumerate(calc_it2>=support_val):\n",
        "  if i:\n",
        "    items.append(calc_it2.index[num])\n",
        "    count.append(calc_it2[num])\n",
        "  \n",
        "\n",
        "it2 = pd.DataFrame(data= {'Items': items, 'Count': count})\n",
        "\n",
        "print(f'Pruned: \\n{it2}')\n"
      ]
    },
    {
      "attachments": {},
      "cell_type": "markdown",
      "metadata": {},
      "source": [
        "3nd iteration: Creating pairs of 3"
      ]
    },
    {
      "cell_type": "code",
      "execution_count": 177,
      "metadata": {
        "id": "qSLANejvLs4r"
      },
      "outputs": [
        {
          "name": "stdout",
          "output_type": "stream",
          "text": [
            "Calculated: \n",
            "[I1, I2, I3]    3\n",
            "[I1, I2, I4]    2\n",
            "[I1, I3, I4]    1\n",
            "[I2, I3, I4]    2\n",
            "[I2, I4, I3]    2\n",
            "[I3, I4, I2]    2\n",
            "dtype: int64\n",
            "Pruned: \n",
            "          Items  Count\n",
            "0  [I1, I2, I3]      3\n"
          ]
        }
      ],
      "source": [
        "items = []\n",
        "\n",
        "for num1, i in enumerate(it1.index):\n",
        "  for num2,j in enumerate(it1.index[num1:]):\n",
        "    for k in it1.index[num2:]:\n",
        "        # num = 0\n",
        "        for m in range(0, len(data)):\n",
        "            if ((i != j) and (i != k) and (j != k)) and (i in data[m][1]) and (j in data[m][1]) and (k in data[m][1]):\n",
        "                # num = num+1\n",
        "                # print(data[m][1], i, j, k, num)\n",
        "                items.append([i, j, k])\n",
        "\n",
        "calc_it3 = pd.Series(items)\n",
        "calc_it3 = calc_it3.value_counts().sort_index()\n",
        "print(f'Calculated: \\n{calc_it3}')\n",
        "\n",
        "#pruning\n",
        "\n",
        "items = []\n",
        "count = []\n",
        "for num, i in enumerate(calc_it3 >= support_val):\n",
        "  if i:\n",
        "    items.append(calc_it3.index[num])\n",
        "    count.append(calc_it3[num])\n",
        "\n",
        "\n",
        "it3 = pd.DataFrame(data={'Items': items, 'Count': count})\n",
        "\n",
        "print(f'Pruned: \\n{it3}')\n"
      ]
    },
    {
      "attachments": {},
      "cell_type": "markdown",
      "metadata": {},
      "source": [
        "4nd iteration: Creating pairs of 4"
      ]
    },
    {
      "attachments": {},
      "cell_type": "markdown",
      "metadata": {},
      "source": [
        "Before we do this if we see the actual data we can notice that\n"
      ]
    },
    {
      "cell_type": "code",
      "execution_count": 172,
      "metadata": {},
      "outputs": [
        {
          "name": "stdout",
          "output_type": "stream",
          "text": [
            "True\n"
          ]
        },
        {
          "data": {
            "text/plain": [
              "False"
            ]
          },
          "execution_count": 172,
          "metadata": {},
          "output_type": "execute_result"
        }
      ],
      "source": [
        "a =1\n",
        "b=2\n",
        "c =1\n",
        "\n",
        "print(a!=b!=c)\n",
        "(a != b) and (a!= c) and (b!=c)\n"
      ]
    },
    {
      "cell_type": "code",
      "execution_count": null,
      "metadata": {},
      "outputs": [],
      "source": []
    },
    {
      "cell_type": "code",
      "execution_count": null,
      "metadata": {},
      "outputs": [],
      "source": []
    },
    {
      "cell_type": "code",
      "execution_count": null,
      "metadata": {},
      "outputs": [],
      "source": []
    },
    {
      "cell_type": "code",
      "execution_count": null,
      "metadata": {},
      "outputs": [],
      "source": []
    },
    {
      "cell_type": "code",
      "execution_count": 101,
      "metadata": {
        "colab": {
          "base_uri": "https://localhost:8080/"
        },
        "id": "KQiqoy5wDkGd",
        "outputId": "3d204e68-c2d1-4035-b291-7dc34d5cffaf"
      },
      "outputs": [
        {
          "name": "stdout",
          "output_type": "stream",
          "text": [
            "['I1', 'I2', 'I5']\n",
            "['I2', 'I4']\n",
            "['I2', 'I3']\n",
            "['I1', 'I2', 'I4']\n",
            "['I1', 'I3']\n",
            "['I2', 'I3']\n",
            "['I1', 'I3']\n",
            "['I1', 'I2', 'I3', 'I5']\n",
            "['I1', 'I2', 'I3']\n"
          ]
        }
      ],
      "source": []
    },
    {
      "cell_type": "code",
      "execution_count": 100,
      "metadata": {
        "colab": {
          "base_uri": "https://localhost:8080/",
          "height": 345
        },
        "id": "SoUwPcFqCgcl",
        "outputId": "d0130329-ccde-4b1f-9a3c-9882b2852a4b"
      },
      "outputs": [
        {
          "ename": "ValueError",
          "evalue": "ignored",
          "output_type": "error",
          "traceback": [
            "\u001b[0;31m---------------------------------------------------------------------------\u001b[0m",
            "\u001b[0;31mValueError\u001b[0m                                Traceback (most recent call last)",
            "\u001b[0;32m<ipython-input-100-086950fb5d3a>\u001b[0m in \u001b[0;36m<module>\u001b[0;34m\u001b[0m\n\u001b[1;32m      1\u001b[0m \u001b[0;32mimport\u001b[0m \u001b[0mpandas\u001b[0m \u001b[0;32mas\u001b[0m \u001b[0mpd\u001b[0m\u001b[0;34m\u001b[0m\u001b[0;34m\u001b[0m\u001b[0m\n\u001b[0;32m----> 2\u001b[0;31m \u001b[0mdf\u001b[0m \u001b[0;34m=\u001b[0m \u001b[0mpd\u001b[0m\u001b[0;34m.\u001b[0m\u001b[0mDataFrame\u001b[0m\u001b[0;34m(\u001b[0m\u001b[0mdata\u001b[0m \u001b[0;34m=\u001b[0m \u001b[0;34m{\u001b[0m\u001b[0;34m'Transaction_id'\u001b[0m\u001b[0;34m:\u001b[0m\u001b[0mtransaction_id\u001b[0m\u001b[0;34m,\u001b[0m  \u001b[0;34m'Items'\u001b[0m\u001b[0;34m:\u001b[0m\u001b[0mitems\u001b[0m\u001b[0;34m}\u001b[0m\u001b[0;34m)\u001b[0m\u001b[0;34m\u001b[0m\u001b[0;34m\u001b[0m\u001b[0m\n\u001b[0m\u001b[1;32m      3\u001b[0m \u001b[0mdf\u001b[0m\u001b[0;34m\u001b[0m\u001b[0;34m\u001b[0m\u001b[0m\n",
            "\u001b[0;32m/usr/local/lib/python3.8/dist-packages/pandas/core/frame.py\u001b[0m in \u001b[0;36m__init__\u001b[0;34m(self, data, index, columns, dtype, copy)\u001b[0m\n\u001b[1;32m    612\u001b[0m         \u001b[0;32melif\u001b[0m \u001b[0misinstance\u001b[0m\u001b[0;34m(\u001b[0m\u001b[0mdata\u001b[0m\u001b[0;34m,\u001b[0m \u001b[0mdict\u001b[0m\u001b[0;34m)\u001b[0m\u001b[0;34m:\u001b[0m\u001b[0;34m\u001b[0m\u001b[0;34m\u001b[0m\u001b[0m\n\u001b[1;32m    613\u001b[0m             \u001b[0;31m# GH#38939 de facto copy defaults to False only in non-dict cases\u001b[0m\u001b[0;34m\u001b[0m\u001b[0;34m\u001b[0m\u001b[0;34m\u001b[0m\u001b[0m\n\u001b[0;32m--> 614\u001b[0;31m             \u001b[0mmgr\u001b[0m \u001b[0;34m=\u001b[0m \u001b[0mdict_to_mgr\u001b[0m\u001b[0;34m(\u001b[0m\u001b[0mdata\u001b[0m\u001b[0;34m,\u001b[0m \u001b[0mindex\u001b[0m\u001b[0;34m,\u001b[0m \u001b[0mcolumns\u001b[0m\u001b[0;34m,\u001b[0m \u001b[0mdtype\u001b[0m\u001b[0;34m=\u001b[0m\u001b[0mdtype\u001b[0m\u001b[0;34m,\u001b[0m \u001b[0mcopy\u001b[0m\u001b[0;34m=\u001b[0m\u001b[0mcopy\u001b[0m\u001b[0;34m,\u001b[0m \u001b[0mtyp\u001b[0m\u001b[0;34m=\u001b[0m\u001b[0mmanager\u001b[0m\u001b[0;34m)\u001b[0m\u001b[0;34m\u001b[0m\u001b[0;34m\u001b[0m\u001b[0m\n\u001b[0m\u001b[1;32m    615\u001b[0m         \u001b[0;32melif\u001b[0m \u001b[0misinstance\u001b[0m\u001b[0;34m(\u001b[0m\u001b[0mdata\u001b[0m\u001b[0;34m,\u001b[0m \u001b[0mma\u001b[0m\u001b[0;34m.\u001b[0m\u001b[0mMaskedArray\u001b[0m\u001b[0;34m)\u001b[0m\u001b[0;34m:\u001b[0m\u001b[0;34m\u001b[0m\u001b[0;34m\u001b[0m\u001b[0m\n\u001b[1;32m    616\u001b[0m             \u001b[0;32mimport\u001b[0m \u001b[0mnumpy\u001b[0m\u001b[0;34m.\u001b[0m\u001b[0mma\u001b[0m\u001b[0;34m.\u001b[0m\u001b[0mmrecords\u001b[0m \u001b[0;32mas\u001b[0m \u001b[0mmrecords\u001b[0m\u001b[0;34m\u001b[0m\u001b[0;34m\u001b[0m\u001b[0m\n",
            "\u001b[0;32m/usr/local/lib/python3.8/dist-packages/pandas/core/internals/construction.py\u001b[0m in \u001b[0;36mdict_to_mgr\u001b[0;34m(data, index, columns, dtype, typ, copy)\u001b[0m\n\u001b[1;32m    462\u001b[0m         \u001b[0;31m# TODO: can we get rid of the dt64tz special case above?\u001b[0m\u001b[0;34m\u001b[0m\u001b[0;34m\u001b[0m\u001b[0;34m\u001b[0m\u001b[0m\n\u001b[1;32m    463\u001b[0m \u001b[0;34m\u001b[0m\u001b[0m\n\u001b[0;32m--> 464\u001b[0;31m     return arrays_to_mgr(\n\u001b[0m\u001b[1;32m    465\u001b[0m         \u001b[0marrays\u001b[0m\u001b[0;34m,\u001b[0m \u001b[0mdata_names\u001b[0m\u001b[0;34m,\u001b[0m \u001b[0mindex\u001b[0m\u001b[0;34m,\u001b[0m \u001b[0mcolumns\u001b[0m\u001b[0;34m,\u001b[0m \u001b[0mdtype\u001b[0m\u001b[0;34m=\u001b[0m\u001b[0mdtype\u001b[0m\u001b[0;34m,\u001b[0m \u001b[0mtyp\u001b[0m\u001b[0;34m=\u001b[0m\u001b[0mtyp\u001b[0m\u001b[0;34m,\u001b[0m \u001b[0mconsolidate\u001b[0m\u001b[0;34m=\u001b[0m\u001b[0mcopy\u001b[0m\u001b[0;34m\u001b[0m\u001b[0;34m\u001b[0m\u001b[0m\n\u001b[1;32m    466\u001b[0m     )\n",
            "\u001b[0;32m/usr/local/lib/python3.8/dist-packages/pandas/core/internals/construction.py\u001b[0m in \u001b[0;36marrays_to_mgr\u001b[0;34m(arrays, arr_names, index, columns, dtype, verify_integrity, typ, consolidate)\u001b[0m\n\u001b[1;32m    117\u001b[0m         \u001b[0;31m# figure out the index, if necessary\u001b[0m\u001b[0;34m\u001b[0m\u001b[0;34m\u001b[0m\u001b[0;34m\u001b[0m\u001b[0m\n\u001b[1;32m    118\u001b[0m         \u001b[0;32mif\u001b[0m \u001b[0mindex\u001b[0m \u001b[0;32mis\u001b[0m \u001b[0;32mNone\u001b[0m\u001b[0;34m:\u001b[0m\u001b[0;34m\u001b[0m\u001b[0;34m\u001b[0m\u001b[0m\n\u001b[0;32m--> 119\u001b[0;31m             \u001b[0mindex\u001b[0m \u001b[0;34m=\u001b[0m \u001b[0m_extract_index\u001b[0m\u001b[0;34m(\u001b[0m\u001b[0marrays\u001b[0m\u001b[0;34m)\u001b[0m\u001b[0;34m\u001b[0m\u001b[0;34m\u001b[0m\u001b[0m\n\u001b[0m\u001b[1;32m    120\u001b[0m         \u001b[0;32melse\u001b[0m\u001b[0;34m:\u001b[0m\u001b[0;34m\u001b[0m\u001b[0;34m\u001b[0m\u001b[0m\n\u001b[1;32m    121\u001b[0m             \u001b[0mindex\u001b[0m \u001b[0;34m=\u001b[0m \u001b[0mensure_index\u001b[0m\u001b[0;34m(\u001b[0m\u001b[0mindex\u001b[0m\u001b[0;34m)\u001b[0m\u001b[0;34m\u001b[0m\u001b[0;34m\u001b[0m\u001b[0m\n",
            "\u001b[0;32m/usr/local/lib/python3.8/dist-packages/pandas/core/internals/construction.py\u001b[0m in \u001b[0;36m_extract_index\u001b[0;34m(data)\u001b[0m\n\u001b[1;32m    633\u001b[0m             \u001b[0mlengths\u001b[0m \u001b[0;34m=\u001b[0m \u001b[0mlist\u001b[0m\u001b[0;34m(\u001b[0m\u001b[0mset\u001b[0m\u001b[0;34m(\u001b[0m\u001b[0mraw_lengths\u001b[0m\u001b[0;34m)\u001b[0m\u001b[0;34m)\u001b[0m\u001b[0;34m\u001b[0m\u001b[0;34m\u001b[0m\u001b[0m\n\u001b[1;32m    634\u001b[0m             \u001b[0;32mif\u001b[0m \u001b[0mlen\u001b[0m\u001b[0;34m(\u001b[0m\u001b[0mlengths\u001b[0m\u001b[0;34m)\u001b[0m \u001b[0;34m>\u001b[0m \u001b[0;36m1\u001b[0m\u001b[0;34m:\u001b[0m\u001b[0;34m\u001b[0m\u001b[0;34m\u001b[0m\u001b[0m\n\u001b[0;32m--> 635\u001b[0;31m                 \u001b[0;32mraise\u001b[0m \u001b[0mValueError\u001b[0m\u001b[0;34m(\u001b[0m\u001b[0;34m\"All arrays must be of the same length\"\u001b[0m\u001b[0;34m)\u001b[0m\u001b[0;34m\u001b[0m\u001b[0;34m\u001b[0m\u001b[0m\n\u001b[0m\u001b[1;32m    636\u001b[0m \u001b[0;34m\u001b[0m\u001b[0m\n\u001b[1;32m    637\u001b[0m             \u001b[0;32mif\u001b[0m \u001b[0mhave_dicts\u001b[0m\u001b[0;34m:\u001b[0m\u001b[0;34m\u001b[0m\u001b[0;34m\u001b[0m\u001b[0m\n",
            "\u001b[0;31mValueError\u001b[0m: All arrays must be of the same length"
          ]
        }
      ],
      "source": [
        "import pandas as pd\n",
        "df = pd.DataFrame(data = {'Transaction_id':transaction_id,  'Items':items})\n",
        "df"
      ]
    }
  ],
  "metadata": {
    "colab": {
      "provenance": []
    },
    "kernelspec": {
      "display_name": "base",
      "language": "python",
      "name": "python3"
    },
    "language_info": {
      "codemirror_mode": {
        "name": "ipython",
        "version": 3
      },
      "file_extension": ".py",
      "mimetype": "text/x-python",
      "name": "python",
      "nbconvert_exporter": "python",
      "pygments_lexer": "ipython3",
      "version": "3.9.13"
    },
    "vscode": {
      "interpreter": {
        "hash": "db0ca38eb3ef8c6827fe3b0ca03555125b1f9e8053264ada3427b1c2879c8a05"
      }
    }
  },
  "nbformat": 4,
  "nbformat_minor": 0
}
