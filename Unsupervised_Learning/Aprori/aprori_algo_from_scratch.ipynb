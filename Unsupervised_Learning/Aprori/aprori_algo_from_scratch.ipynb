{
  "cells": [
    {
      "attachments": {},
      "cell_type": "markdown",
      "metadata": {},
      "source": [
        "1. Importing required libraries - in this case only pandas was enough"
      ]
    },
    {
      "cell_type": "code",
      "execution_count": 1,
      "metadata": {
        "id": "BOoTO-EeNXuu"
      },
      "outputs": [],
      "source": [
        "import pandas as pd                 #we deal with pandas for the table part\n",
        "from itertools import combinations  #to deal with subsets"
      ]
    },
    {
      "attachments": {},
      "cell_type": "markdown",
      "metadata": {},
      "source": [
        "2. Importing data and getting required info"
      ]
    },
    {
      "cell_type": "code",
      "execution_count": 2,
      "metadata": {
        "colab": {
          "base_uri": "https://localhost:8080/"
        },
        "id": "fYoCuAupB9lG",
        "outputId": "001556f1-8762-4b12-af39-b6df65f309d3"
      },
      "outputs": [
        {
          "name": "stdout",
          "output_type": "stream",
          "text": [
            "Input data:\n"
          ]
        },
        {
          "data": {
            "text/plain": [
              "[['T100', ['I1', 'I2', 'I3']],\n",
              " ['T200', ['I2', 'I3', 'I4']],\n",
              " ['T300', ['I4', 'I5']],\n",
              " ['T400', ['I1', 'I2', 'I4']],\n",
              " ['T500', ['I1', 'I2', 'I3', 'I5']],\n",
              " ['T600', ['I1', 'I2', 'I3', 'I4']]]"
            ]
          },
          "execution_count": 2,
          "metadata": {},
          "output_type": "execute_result"
        }
      ],
      "source": [
        "data = [\n",
        "        ['T100',['I1','I2','I3']],\n",
        "        ['T200',['I2','I3','I4']],\n",
        "        ['T300',['I4','I5']],\n",
        "        ['T400',['I1','I2','I4']],\n",
        "        ['T500',['I1','I2','I3','I5']],\n",
        "        ['T600',['I1','I2','I3','I4']]\n",
        "        ]\n",
        "print('Input data:')\n",
        "data"
      ]
    },
    {
      "attachments": {},
      "cell_type": "markdown",
      "metadata": {},
      "source": [
        "We have 6 transaction it is very simple but helps in understanding the data and how the algorithm works"
      ]
    },
    {
      "cell_type": "code",
      "execution_count": 3,
      "metadata": {
        "colab": {
          "base_uri": "https://localhost:8080/"
        },
        "id": "Zpf_KggoESuX",
        "outputId": "1ddaa44e-3801-478f-b77b-b714efe06562"
      },
      "outputs": [
        {
          "data": {
            "text/plain": [
              "['I1', 'I2', 'I3', 'I4', 'I5']"
            ]
          },
          "execution_count": 3,
          "metadata": {},
          "output_type": "execute_result"
        }
      ],
      "source": [
        "#get all the unique items from the data\n",
        "uniq_item=[]\n",
        "\n",
        "for i in data:\n",
        "  for j in i[1]:\n",
        "    if j not in uniq_item:\n",
        "      uniq_item.append(j)\n",
        "\n",
        "uniq_item = sorted(uniq_item)\n",
        "uniq_item"
      ]
    },
    {
      "attachments": {},
      "cell_type": "markdown",
      "metadata": {},
      "source": [
        "For this learning lets use min support as 50% and min confident as 60%"
      ]
    },
    {
      "cell_type": "code",
      "execution_count": 4,
      "metadata": {
        "id": "ZblOHl7wLjnQ"
      },
      "outputs": [
        {
          "data": {
            "text/plain": [
              "3.0"
            ]
          },
          "execution_count": 4,
          "metadata": {},
          "output_type": "execute_result"
        }
      ],
      "source": [
        "support = 0.5\n",
        "\n",
        "support_val = support*len(data)\n",
        "support_val"
      ]
    },
    {
      "attachments": {},
      "cell_type": "markdown",
      "metadata": {},
      "source": [
        "3. Apririo algorithm has 2 important steps to find the frequent items\n",
        "    1. Joining - We find the particular item or set of items of the data and get support of those\n",
        "    2. Pruning - Based on the support threshold we will remove the subset from our final table\n",
        "\n",
        "We iterate these steps will we find the most frequent subsets.... Let's start"
      ]
    },
    {
      "attachments": {},
      "cell_type": "markdown",
      "metadata": {},
      "source": [
        "---\n",
        "1st iteration: Unique items"
      ]
    },
    {
      "cell_type": "code",
      "execution_count": 5,
      "metadata": {
        "colab": {
          "base_uri": "https://localhost:8080/"
        },
        "id": "RbvCAbMVLtFa",
        "outputId": "8763e779-93d3-477e-a0b3-b0228deb8ce2"
      },
      "outputs": [
        {
          "name": "stdout",
          "output_type": "stream",
          "text": [
            "Calculated: \n",
            "I1    4\n",
            "I2    5\n",
            "I3    4\n",
            "I4    4\n",
            "I5    2\n",
            "dtype: int64\n",
            "Pruned: \n",
            "  Items  Count\n",
            "0    I1      4\n",
            "1    I2      5\n",
            "2    I3      4\n",
            "3    I4      4\n"
          ]
        }
      ],
      "source": [
        "#Joining\n",
        "\n",
        "items = []\n",
        "for i in data:\n",
        "  for j in i[1]:\n",
        "    items.append(j)\n",
        "\n",
        "calc_it1 = pd.Series(items)\n",
        "calc_it1 = calc_it1.value_counts().sort_index()\n",
        "print(f'Calculated: \\n{calc_it1}')\n",
        "\n",
        "#pruning\n",
        "items = []\n",
        "count = []\n",
        "for num,i in enumerate(calc_it1 >= support_val): #filtering the table with support threshold\n",
        "  if i:\n",
        "    items.append(calc_it1.index[num])\n",
        "    count.append(calc_it1[num])\n",
        "\n",
        "it1 = pd.DataFrame(data={'Items': items, 'Count': count})\n",
        "print(f'Pruned: \\n{it1}')"
      ]
    },
    {
      "attachments": {},
      "cell_type": "markdown",
      "metadata": {},
      "source": [
        "---\n",
        "2nd iteration: Creating pairs"
      ]
    },
    {
      "cell_type": "code",
      "execution_count": 6,
      "metadata": {
        "id": "gDioj_H5Ls_Y"
      },
      "outputs": [
        {
          "name": "stdout",
          "output_type": "stream",
          "text": [
            "Calculated: \n",
            "[I1, I2]    4\n",
            "[I1, I3]    3\n",
            "[I1, I4]    2\n",
            "[I2, I3]    4\n",
            "[I2, I4]    3\n",
            "[I3, I4]    2\n",
            "dtype: int64\n",
            "Pruned: \n",
            "      Items  Count\n",
            "0  [I1, I2]      4\n",
            "1  [I1, I3]      3\n",
            "2  [I2, I3]      4\n",
            "3  [I2, I4]      3\n"
          ]
        }
      ],
      "source": [
        "#Joining\n",
        "\n",
        "items = []\n",
        "for num,i in enumerate(it1.Items):\n",
        "  for j in it1.Items[num:]:\n",
        "    # num = 0\n",
        "    for k in range(0, len(data)):\n",
        "      if (i != j) and (j in data[k][1]) and (i in data[k][1]):\n",
        "          # num = num+1\n",
        "          # print(data[k][1], i, j, num)\n",
        "          items.append([i, j])\n",
        "    # print(i, j, num)\n",
        "\n",
        "calc_it2 = pd.Series(items)\n",
        "calc_it2 = calc_it2.value_counts().sort_index()\n",
        "print(f'Calculated: \\n{calc_it2}')\n",
        "\n",
        "#pruning\n",
        "items = []\n",
        "count = []\n",
        "# filtering the table with support threshold\n",
        "for num, i in enumerate(calc_it2 >= support_val):\n",
        "  if i:\n",
        "    items.append(calc_it2.index[num])\n",
        "    count.append(calc_it2[num])\n",
        "\n",
        "it2 = pd.DataFrame(data= {'Items': items, 'Count': count})\n",
        "print(f'Pruned: \\n{it2}')\n"
      ]
    },
    {
      "attachments": {},
      "cell_type": "markdown",
      "metadata": {},
      "source": [
        "---\n",
        "3nd iteration: Creating pairs of 3"
      ]
    },
    {
      "cell_type": "code",
      "execution_count": 7,
      "metadata": {
        "id": "qSLANejvLs4r"
      },
      "outputs": [
        {
          "name": "stdout",
          "output_type": "stream",
          "text": [
            "Calculated: \n",
            "[I1, I2, I3]    3\n",
            "[I1, I2, I4]    2\n",
            "[I1, I3, I4]    1\n",
            "[I2, I3, I4]    2\n",
            "[I2, I4, I3]    2\n",
            "[I3, I4, I2]    2\n",
            "dtype: int64\n",
            "Pruned: \n",
            "          Items  Count\n",
            "0  [I1, I2, I3]      3\n"
          ]
        }
      ],
      "source": [
        "#Joining\n",
        "\n",
        "items = []\n",
        "for num1, i in enumerate(it1.Items):\n",
        "  for num2, j in enumerate(it1.Items[num1:]):\n",
        "    for k in it1.Items[num2:]:\n",
        "        # num = 0\n",
        "        for m in range(0, len(data)):\n",
        "            if ((i != j) and (i != k) and (j != k)) and (i in data[m][1]) and (j in data[m][1]) and (k in data[m][1]):\n",
        "                # num = num+1\n",
        "                # print(data[m][1], i, j, k, num)\n",
        "                items.append([i, j, k])\n",
        "\n",
        "calc_it3 = pd.Series(items)\n",
        "calc_it3 = calc_it3.value_counts().sort_index()\n",
        "print(f'Calculated: \\n{calc_it3}')\n",
        "\n",
        "#pruning\n",
        "items = []\n",
        "count = []\n",
        "for num, i in enumerate(calc_it3 >= support_val): #filtering the table with support threshold\n",
        "  if i:\n",
        "    items.append(calc_it3.index[num])\n",
        "    count.append(calc_it3[num])\n",
        "\n",
        "\n",
        "it3 = pd.DataFrame(data={'Items': items, 'Count': count})\n",
        "\n",
        "print(f'Pruned: \\n{it3}')\n"
      ]
    },
    {
      "attachments": {},
      "cell_type": "markdown",
      "metadata": {},
      "source": [
        "---\n",
        "4nd iteration: Creating pairs of 4\n"
      ]
    },
    {
      "attachments": {},
      "cell_type": "markdown",
      "metadata": {},
      "source": [
        "Before we do this if we see the actual data we can notice that there are only 2 transaction with 4 items.\n",
        "\n",
        "        ['T500',['I1','I2','I3','I5']]\n",
        "        ['T600',['I1','I2','I3','I4']]\n",
        "\n",
        "support of each will be just 1/6 = 0.16 i.e 16% while our support threshold is 50% so we can safely ignore this and apply Generate Association Rules and see the results"
      ]
    },
    {
      "attachments": {},
      "cell_type": "markdown",
      "metadata": {},
      "source": [
        "4. Association Rules"
      ]
    },
    {
      "cell_type": "code",
      "execution_count": 8,
      "metadata": {},
      "outputs": [
        {
          "data": {
            "text/html": [
              "<div>\n",
              "<style scoped>\n",
              "    .dataframe tbody tr th:only-of-type {\n",
              "        vertical-align: middle;\n",
              "    }\n",
              "\n",
              "    .dataframe tbody tr th {\n",
              "        vertical-align: top;\n",
              "    }\n",
              "\n",
              "    .dataframe thead th {\n",
              "        text-align: right;\n",
              "    }\n",
              "</style>\n",
              "<table border=\"1\" class=\"dataframe\">\n",
              "  <thead>\n",
              "    <tr style=\"text-align: right;\">\n",
              "      <th></th>\n",
              "      <th>Items</th>\n",
              "      <th>Count</th>\n",
              "    </tr>\n",
              "  </thead>\n",
              "  <tbody>\n",
              "    <tr>\n",
              "      <th>0</th>\n",
              "      <td>I1</td>\n",
              "      <td>4</td>\n",
              "    </tr>\n",
              "    <tr>\n",
              "      <th>1</th>\n",
              "      <td>I2</td>\n",
              "      <td>5</td>\n",
              "    </tr>\n",
              "    <tr>\n",
              "      <th>2</th>\n",
              "      <td>I3</td>\n",
              "      <td>4</td>\n",
              "    </tr>\n",
              "    <tr>\n",
              "      <th>3</th>\n",
              "      <td>I4</td>\n",
              "      <td>4</td>\n",
              "    </tr>\n",
              "    <tr>\n",
              "      <th>4</th>\n",
              "      <td>[I1, I2]</td>\n",
              "      <td>4</td>\n",
              "    </tr>\n",
              "    <tr>\n",
              "      <th>5</th>\n",
              "      <td>[I1, I3]</td>\n",
              "      <td>3</td>\n",
              "    </tr>\n",
              "    <tr>\n",
              "      <th>6</th>\n",
              "      <td>[I2, I3]</td>\n",
              "      <td>4</td>\n",
              "    </tr>\n",
              "    <tr>\n",
              "      <th>7</th>\n",
              "      <td>[I2, I4]</td>\n",
              "      <td>3</td>\n",
              "    </tr>\n",
              "    <tr>\n",
              "      <th>8</th>\n",
              "      <td>[I1, I2, I3]</td>\n",
              "      <td>3</td>\n",
              "    </tr>\n",
              "  </tbody>\n",
              "</table>\n",
              "</div>"
            ],
            "text/plain": [
              "          Items  Count\n",
              "0            I1      4\n",
              "1            I2      5\n",
              "2            I3      4\n",
              "3            I4      4\n",
              "4      [I1, I2]      4\n",
              "5      [I1, I3]      3\n",
              "6      [I2, I3]      4\n",
              "7      [I2, I4]      3\n",
              "8  [I1, I2, I3]      3"
            ]
          },
          "execution_count": 8,
          "metadata": {},
          "output_type": "execute_result"
        }
      ],
      "source": [
        "final_table = pd.concat([it1, it2, it3], axis=0, ignore_index=True)\n",
        "final_table"
      ]
    },
    {
      "cell_type": "code",
      "execution_count": 9,
      "metadata": {},
      "outputs": [
        {
          "name": "stdout",
          "output_type": "stream",
          "text": [
            "Sublist created: \n",
            " [['I1'], ['I2'], ['I3'], ['I1', 'I2'], ['I1', 'I3'], ['I2', 'I3'], ['I1', 'I2', 'I3']]\n"
          ]
        }
      ],
      "source": [
        "# function to generate all the sub lists of the list\n",
        "def sub_lists(l):\n",
        "    # initializing empty list\n",
        "    comb = []\n",
        "\n",
        "    #Iterating till length of list\n",
        "    for i in range(len(l)+1):\n",
        "        # Generating sub list\n",
        "        sub_list = [list(j) for j in combinations(l, i)]\n",
        "        for k in sub_list:\n",
        "            if len(k) > 0: #remove empty list element we get\n",
        "                comb += [k]\n",
        "                \n",
        "    # Returning list\n",
        "    return comb\n",
        "\n",
        "for i in it3.Items:\n",
        "    sub_set = sub_lists(i)\n",
        "\n",
        "print('Sublist created: \\n',sub_set)\n"
      ]
    },
    {
      "cell_type": "code",
      "execution_count": 10,
      "metadata": {},
      "outputs": [],
      "source": [
        "#function to calculate support for a items or pairs or items\n",
        "def support_calc(item): \n",
        "    val = final_table[final_table[\"Items\"].isin([item])].Count/len(data) #getting the count/support of items like I2 or [I3, I4] \n",
        "    return val.values\n",
        "\n",
        "\n",
        "#note when passing done use [] for single item but use it for pairs \n"
      ]
    },
    {
      "cell_type": "code",
      "execution_count": 11,
      "metadata": {},
      "outputs": [
        {
          "name": "stdout",
          "output_type": "stream",
          "text": [
            "confidence of (I1, I2) -> I3:  75 %\n",
            "confidence of (I1, I3) -> I2:  100 %\n",
            "confidence of (I2, I3) -> I1:  75 %\n",
            "confidence of I1 -> (I2, I3):  75 %\n",
            "confidence of I2 -> (I1, I3):  60 %\n",
            "confidence of I3 -> (I1, I2):  75 %\n"
          ]
        }
      ],
      "source": [
        "#lets calculate confidence \n",
        "\n",
        "#confidence of people who buys (I1, I2)  will buy I3:   (I1, I2) -> I3\n",
        "conf_I1_I2 = support_calc(['I1', 'I2', 'I3']) / support_calc(['I1', 'I2'])\n",
        "print('confidence of (I1, I2) -> I3: ', int(conf_I1_I2*100),'%')\n",
        "\n",
        "#confidence of people who buys (I1, I3)  will buy I2:   (I1, I3) -> I2\n",
        "conf_I1_I3 = support_calc(['I1', 'I2', 'I3']) / support_calc(['I1', 'I3'])\n",
        "print('confidence of (I1, I3) -> I2: ', int(conf_I1_I3*100),'%')\n",
        "\n",
        "#confidence of people who buys (I2, I3)  will buy I1:   (I2, I3) -> I1\n",
        "conf_I2_I3 = support_calc(['I1', 'I2', 'I3']) / support_calc(['I2', 'I3'])\n",
        "print('confidence of (I2, I3) -> I1: ', int(conf_I2_I3*100),'%')\n",
        "\n",
        "#confidence of people who buys I1 will buy (I2, I3):   I1 -> (I2, I3)\n",
        "conf_I1 = support_calc(['I1', 'I2', 'I3']) / support_calc('I1')\n",
        "print('confidence of I1 -> (I2, I3): ', int(conf_I1*100),'%')\n",
        "\n",
        "#confidence of people who buys I2 will aso buy (I1, I3):   I2 -> (I1, I3)\n",
        "conf_I2 = support_calc(['I1', 'I2', 'I3']) / support_calc('I2')\n",
        "print('confidence of I2 -> (I1, I3): ', int(conf_I2*100),'%')\n",
        "\n",
        "#confidence of people who buys I3 will buy (I1, I2):   I3 -> (I1, I2)\n",
        "conf_I3 = support_calc(['I1', 'I2', 'I3']) / support_calc('I3')\n",
        "print('confidence of I3 -> (I1, I2): ', int(conf_I3*100),'%')"
      ]
    },
    {
      "attachments": {},
      "cell_type": "markdown",
      "metadata": {},
      "source": [
        "From the result we can see all are equal or above the min confidence threshold so we come to the conclusing that all these are applicable based on the thresholds provided by stakeholders/marketing team\n",
        "\n",
        "Please go back to the README.md file for more information"
      ]
    }
  ],
  "metadata": {
    "colab": {
      "provenance": []
    },
    "kernelspec": {
      "display_name": "base",
      "language": "python",
      "name": "python3"
    },
    "language_info": {
      "codemirror_mode": {
        "name": "ipython",
        "version": 3
      },
      "file_extension": ".py",
      "mimetype": "text/x-python",
      "name": "python",
      "nbconvert_exporter": "python",
      "pygments_lexer": "ipython3",
      "version": "3.9.13"
    },
    "vscode": {
      "interpreter": {
        "hash": "db0ca38eb3ef8c6827fe3b0ca03555125b1f9e8053264ada3427b1c2879c8a05"
      }
    }
  },
  "nbformat": 4,
  "nbformat_minor": 0
}
